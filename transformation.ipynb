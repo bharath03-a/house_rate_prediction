{
 "cells": [
  {
   "cell_type": "markdown",
   "metadata": {},
   "source": [
    "Based on the analysis done in the `eda.ipynb`, we can come up with the following data transformation which are required.\n",
    "\n",
    "1) Handling NULL values\n",
    "2) Handling Outliers\n",
    "3) Handling categorical data\n",
    "4) Feature Engineering if any\n",
    "5) Dimentionality Reduction techniques"
   ]
  },
  {
   "cell_type": "code",
   "execution_count": null,
   "metadata": {
    "vscode": {
     "languageId": "plaintext"
    }
   },
   "outputs": [],
   "source": []
  }
 ],
 "metadata": {
  "language_info": {
   "name": "python"
  }
 },
 "nbformat": 4,
 "nbformat_minor": 2
}
