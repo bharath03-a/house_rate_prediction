{
 "cells": [
  {
   "cell_type": "markdown",
   "metadata": {},
   "source": [
    "I would like to implement all regression models and choose a better one."
   ]
  },
  {
   "cell_type": "code",
   "execution_count": 33,
   "metadata": {},
   "outputs": [],
   "source": [
    "%%capture\n",
    "%run transformation.ipynb\n",
    "# we can run other notebooks and use it's variables and imports"
   ]
  },
  {
   "cell_type": "code",
   "execution_count": 34,
   "metadata": {},
   "outputs": [],
   "source": [
    "import pandas as pd\n",
    "import numpy as np\n",
    "\n",
    "from sklearn.linear_model import LinearRegression, Ridge, Lasso\n",
    "from sklearn.model_selection import train_test_split\n",
    "from sklearn.metrics import mean_squared_error, r2_score\n",
    "from sklearn.model_selection import GridSearchCV"
   ]
  },
  {
   "cell_type": "markdown",
   "metadata": {},
   "source": [
    "### **One hot encoded Data**"
   ]
  },
  {
   "cell_type": "code",
   "execution_count": 35,
   "metadata": {},
   "outputs": [],
   "source": [
    "train_data = pd.read_csv(\"./data/label_encoded_train.csv\")\n",
    "test_data = pd.read_csv(\"./data/label_encoded_test.csv\")"
   ]
  },
  {
   "cell_type": "code",
   "execution_count": 36,
   "metadata": {},
   "outputs": [],
   "source": [
    "Y = train_data['SalePrice']\n",
    "X_train_data = train_data.drop(columns='SalePrice', axis=1)"
   ]
  },
  {
   "cell_type": "code",
   "execution_count": 37,
   "metadata": {},
   "outputs": [],
   "source": [
    "X_train, X_val, y_train, y_val = train_test_split(X_train_data, Y, test_size=0.20, random_state=42)"
   ]
  },
  {
   "cell_type": "code",
   "execution_count": 38,
   "metadata": {},
   "outputs": [
    {
     "name": "stdout",
     "output_type": "stream",
     "text": [
      "[508525845.67749566, 509050400.8628397, 509551049.54332954]\n",
      "[0.8828492110141827, 0.8827283674929497, 0.8826130313926853]\n"
     ]
    }
   ],
   "source": [
    "mse_1 = []\n",
    "r_2 = []\n",
    "\n",
    "lr_reg = LinearRegression()\n",
    "lr_reg.fit(X_train, y_train)\n",
    "pred = lr_reg.predict(X_val)\n",
    "mse = mean_squared_error(y_val , pred)\n",
    "mse_1.append(mse)\n",
    "r_2.append(r2_score(y_val, pred))\n",
    "\n",
    "ridge_reg = Ridge()\n",
    "ridge_reg.fit(X_train, y_train)\n",
    "pred = ridge_reg.predict(X_val)\n",
    "mse = mean_squared_error(y_val , pred)\n",
    "mse_1.append(mse)\n",
    "r_2.append(r2_score(y_val, pred))\n",
    "\n",
    "lasso_reg = Lasso()\n",
    "lasso_reg.fit(X_train, y_train)\n",
    "pred = lasso_reg.predict(X_val)\n",
    "mse = mean_squared_error(y_val , pred)\n",
    "mse_1.append(mse)\n",
    "r_2.append(r2_score(y_val, pred))\n",
    "\n",
    "print(mse_1)\n",
    "print(r_2)"
   ]
  },
  {
   "cell_type": "code",
   "execution_count": 39,
   "metadata": {},
   "outputs": [
    {
     "name": "stdout",
     "output_type": "stream",
     "text": [
      "Ridge(alpha=1)\n"
     ]
    }
   ],
   "source": [
    "# getting output from ridge regression mode\n",
    "grid_model = GridSearchCV(ridge_reg, \n",
    "                          param_grid = {'alpha': [0.05, 0.1, 1, 5, 8, 10, 12, 15, 20]}, \n",
    "                          scoring = 'neg_mean_squared_error', \n",
    "                          cv=5)\n",
    "grid_model.fit(X_train_data, Y)\n",
    "\n",
    "best_ridge = grid_model.best_estimator_\n",
    "print(best_ridge)"
   ]
  },
  {
   "cell_type": "code",
   "execution_count": 44,
   "metadata": {},
   "outputs": [
    {
     "name": "stdout",
     "output_type": "stream",
     "text": [
      "509050400.8628397\n",
      "0.8827283674929497\n"
     ]
    }
   ],
   "source": [
    "ridge_reg = Ridge(alpha=1)\n",
    "ridge_reg.fit(X_train, y_train)\n",
    "pred = ridge_reg.predict(X_val)\n",
    "mse = mean_squared_error(y_val , pred)\n",
    "print(mse)\n",
    "print(r2_score(y_val, pred))"
   ]
  },
  {
   "cell_type": "code",
   "execution_count": 45,
   "metadata": {},
   "outputs": [],
   "source": [
    "predictions = ridge_reg.predict(test_data)"
   ]
  },
  {
   "cell_type": "code",
   "execution_count": 46,
   "metadata": {},
   "outputs": [],
   "source": [
    "submission = pd.DataFrame({\"Id\": test_data['Id'], \"SalePrice\": predictions})"
   ]
  },
  {
   "cell_type": "code",
   "execution_count": 47,
   "metadata": {},
   "outputs": [],
   "source": [
    "submission.to_csv(\"./submissions/submission_ridge.csv\", index = False)"
   ]
  }
 ],
 "metadata": {
  "kernelspec": {
   "display_name": "trail",
   "language": "python",
   "name": "python3"
  },
  "language_info": {
   "codemirror_mode": {
    "name": "ipython",
    "version": 3
   },
   "file_extension": ".py",
   "mimetype": "text/x-python",
   "name": "python",
   "nbconvert_exporter": "python",
   "pygments_lexer": "ipython3",
   "version": "3.11.5"
  }
 },
 "nbformat": 4,
 "nbformat_minor": 2
}
