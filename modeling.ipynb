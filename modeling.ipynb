{
 "cells": [
  {
   "cell_type": "markdown",
   "metadata": {},
   "source": [
    "I would like to implement all regression models and choose a better one."
   ]
  },
  {
   "cell_type": "code",
   "execution_count": 22,
   "metadata": {},
   "outputs": [],
   "source": [
    "%%capture\n",
    "%run transformation.ipynb\n",
    "# we can run other notebooks and use it's variables and imports"
   ]
  },
  {
   "cell_type": "code",
   "execution_count": 23,
   "metadata": {},
   "outputs": [],
   "source": [
    "import pandas as pd\n",
    "import numpy as np\n",
    "\n",
    "from sklearn.linear_model import LinearRegression, Ridge, Lasso\n",
    "from sklearn.model_selection import train_test_split\n",
    "from sklearn.metrics import mean_squared_error, r2_score\n",
    "from sklearn.model_selection import GridSearchCV"
   ]
  },
  {
   "cell_type": "markdown",
   "metadata": {},
   "source": [
    "### **One hot encoded Data**"
   ]
  },
  {
   "cell_type": "code",
   "execution_count": 24,
   "metadata": {},
   "outputs": [],
   "source": [
    "train_data = pd.read_csv(\"./data/label_encoded_train.csv\")\n",
    "test_data = pd.read_csv(\"./data/label_encoded_test.csv\")"
   ]
  },
  {
   "cell_type": "code",
   "execution_count": 25,
   "metadata": {},
   "outputs": [],
   "source": [
    "Y = train_data['SalePrice']\n",
    "X_train_data = train_data.drop(columns='SalePrice', axis=1)"
   ]
  },
  {
   "cell_type": "code",
   "execution_count": 26,
   "metadata": {},
   "outputs": [],
   "source": [
    "X_train, X_val, y_train, y_val = train_test_split(X_train_data, Y, test_size=0.20, random_state=42)"
   ]
  },
  {
   "cell_type": "code",
   "execution_count": 27,
   "metadata": {},
   "outputs": [
    {
     "name": "stdout",
     "output_type": "stream",
     "text": [
      "[544434180.5913967, 546209082.3469368, 544379037.2228739]\n",
      "[0.8745768885706183, 0.8741679985548969, 0.8745895921316756]\n"
     ]
    }
   ],
   "source": [
    "mse_1 = []\n",
    "r_2 = []\n",
    "\n",
    "lr_reg = LinearRegression()\n",
    "lr_reg.fit(X_train, y_train)\n",
    "pred = lr_reg.predict(X_val)\n",
    "mse = mean_squared_error(y_val , pred)\n",
    "mse_1.append(mse)\n",
    "r_2.append(r2_score(y_val, pred))\n",
    "\n",
    "ridge_reg = Ridge()\n",
    "ridge_reg.fit(X_train, y_train)\n",
    "pred = ridge_reg.predict(X_val)\n",
    "mse = mean_squared_error(y_val , pred)\n",
    "mse_1.append(mse)\n",
    "r_2.append(r2_score(y_val, pred))\n",
    "\n",
    "lasso_reg = Lasso()\n",
    "lasso_reg.fit(X_train, y_train)\n",
    "pred = lasso_reg.predict(X_val)\n",
    "mse = mean_squared_error(y_val , pred)\n",
    "mse_1.append(mse)\n",
    "r_2.append(r2_score(y_val, pred))\n",
    "\n",
    "print(mse_1)\n",
    "print(r_2)"
   ]
  },
  {
   "cell_type": "code",
   "execution_count": 28,
   "metadata": {},
   "outputs": [
    {
     "name": "stdout",
     "output_type": "stream",
     "text": [
      "Ridge(alpha=20)\n"
     ]
    }
   ],
   "source": [
    "# getting output from ridge regression mode\n",
    "grid_model = GridSearchCV(ridge_reg, \n",
    "                          param_grid = {'alpha': [0.05, 0.1, 1, 5, 8, 10, 12, 15, 20]}, \n",
    "                          scoring = 'neg_mean_squared_error', \n",
    "                          cv=5)\n",
    "grid_model.fit(X_train_data, Y)\n",
    "\n",
    "best_ridge = grid_model.best_estimator_\n",
    "print(best_ridge)"
   ]
  },
  {
   "cell_type": "code",
   "execution_count": 29,
   "metadata": {},
   "outputs": [
    {
     "name": "stdout",
     "output_type": "stream",
     "text": [
      "545041027.683408\n",
      "0.8744370871893765\n"
     ]
    }
   ],
   "source": [
    "ridge_reg = Ridge(alpha=20)\n",
    "ridge_reg.fit(X_train, y_train)\n",
    "pred = ridge_reg.predict(X_val)\n",
    "mse = mean_squared_error(y_val , pred)\n",
    "print(mse)\n",
    "print(r2_score(y_val, pred))"
   ]
  },
  {
   "cell_type": "code",
   "execution_count": 30,
   "metadata": {},
   "outputs": [],
   "source": [
    "predictions = ridge_reg.predict(test_data)"
   ]
  },
  {
   "cell_type": "code",
   "execution_count": 31,
   "metadata": {},
   "outputs": [],
   "source": [
    "submission = pd.DataFrame({\"Id\": test_data['Id'], \"SalePrice\": predictions})"
   ]
  },
  {
   "cell_type": "code",
   "execution_count": 32,
   "metadata": {},
   "outputs": [],
   "source": [
    "submission.to_csv(\"./submissions/submission_ridge.csv\", index = False)"
   ]
  }
 ],
 "metadata": {
  "kernelspec": {
   "display_name": "trail",
   "language": "python",
   "name": "python3"
  },
  "language_info": {
   "codemirror_mode": {
    "name": "ipython",
    "version": 3
   },
   "file_extension": ".py",
   "mimetype": "text/x-python",
   "name": "python",
   "nbconvert_exporter": "python",
   "pygments_lexer": "ipython3",
   "version": "3.11.5"
  }
 },
 "nbformat": 4,
 "nbformat_minor": 2
}
